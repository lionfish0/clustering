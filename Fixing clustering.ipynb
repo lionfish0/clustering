{
 "cells": [
  {
   "cell_type": "code",
   "execution_count": 54,
   "metadata": {
    "collapsed": false
   },
   "outputs": [
    {
     "name": "stdout",
     "output_type": "stream",
     "text": [
      "Check gradients\n",
      "                        Name                        |     Ratio     |  Difference   |  Analytical   |   Numerical   |   dF_ratio    \n",
      "------------------------------------------------------------------------------------------------------------------------------------\n",
      "\u001b[92m GP_regression.independ.offset.offset \u001b[0m              |   1.000000    |   0.000000    |   -0.150897   |   -0.150897   |     6e-09     \n",
      "\u001b[92m GP_regression.independ.offset.Mat32.variance \u001b[0m      |   1.000000    |   0.000000    |   1.756046    |   1.756046    |     7e-08     \n",
      "\u001b[92m GP_regression.independ.offset.Mat32.lengthscale \u001b[0m   |   1.000000    |   0.000000    |   -1.017842   |   -1.017842   |     4e-08     \n",
      "\u001b[92m GP_regression.independ.Mat32.variance \u001b[0m             |   1.000000    |   0.000000    |   1.189709    |   1.189709    |     5e-08     \n",
      "\u001b[92m GP_regression.independ.Mat32.lengthscale \u001b[0m          |   1.000000    |   0.000000    |   -0.557727   |   -0.557727   |     2e-08     \n",
      "\u001b[92m GP_regression.independ.Mat32_1.variance \u001b[0m           |   1.000000    |   0.000000    |   1.166420    |   1.166420    |     4e-08     \n",
      "\u001b[92m GP_regression.independ.Mat32_1.lengthscale \u001b[0m        |   1.000000    |   0.000000    |   -0.559419   |   -0.559419   |     2e-08     \n",
      "\u001b[92m GP_regression.Gaussian_noise.variance \u001b[0m             |   1.000000    |   0.000000    |   7.384231    |   7.384231    |     3e-07     \n"
     ]
    },
    {
     "data": {
      "text/plain": [
       "True"
      ]
     },
     "execution_count": 54,
     "metadata": {},
     "output_type": "execute_result"
    }
   ],
   "source": [
    "import matplotlib.pyplot as plt\n",
    "%matplotlib inline\n",
    "import sys #TODO: Remove this line\n",
    "sys.path.append('~/GPy/GPy') #TODO: Remove this line\n",
    "import GPy\n",
    "import numpy as np\n",
    "np.set_printoptions(precision=4,suppress=True)\n",
    "\n",
    "N = 10\n",
    "X1 = np.arange(1,N+1,1)[:,None]\n",
    "X2 = X1 + 2\n",
    "X = np.vstack([X1,X2,X1,X2])\n",
    "nans = np.empty([N*2,1])\n",
    "nans[:] = np.NAN\n",
    "\n",
    "#offset indicies\n",
    "ind_offset = np.vstack([np.zeros([N,1]),np.ones([N,1]),nans])\n",
    "\n",
    "#independent output indicies\n",
    "ind_indpoutputs = np.vstack([np.zeros([N*2,1]),np.ones([N,1]),np.ones([N,1])*2])\n",
    "X = np.hstack([X,ind_offset,ind_indpoutputs])\n",
    "Y = np.sin((X[0:N,0])/10.0)[:,None]\n",
    "Y = np.vstack([Y,Y,Y,Y])\n",
    "Y += np.random.randn(Y.shape[0],Y.shape[1])*0.1\n",
    "\n",
    "#Structure of inputs:\n",
    "# actual input | offset_kernel_index | indp_output_index\n",
    "#      2.4              0                     0\n",
    "#      2.9              0                     0\n",
    "#      3.4              1                     0\n",
    "#      3.9              1                     0\n",
    "#      2.4              nan                   1\n",
    "#      2.9              nan                   1\n",
    "#      3.4              nan                   2\n",
    "#      3.9              nan                   2\n",
    "#print X\n",
    "#print Y\n",
    "\n",
    "#base kernel to explain all time series with\n",
    "common_kern = GPy.kern.Matern32(input_dim=1)\n",
    "\n",
    "#the offset kernel, that can shift one time series wrt another\n",
    "offset_kern = GPy.kern.Offset(common_kern,2,[0])\n",
    "\n",
    "#we want to discourage massive offsets, which can achieve good fits by simply moving the two datasets far apart\n",
    "offset_kern.offset.set_prior(GPy.priors.Gaussian(0,4.0))\n",
    "\n",
    "#our overall kernel contains our offset kernel and two common kernels\n",
    "independent_kern = GPy.kern.IndependentOutputs([offset_kern,common_kern.copy(),common_kern.copy()],index_dim=2)\n",
    "\n",
    "#simple GP Regression\n",
    "independent = GPy.models.GPRegression(X,Y,independent_kern)\n",
    "print \"Check gradients\"\n",
    "independent.checkgrad(verbose=1)"
   ]
  },
  {
   "cell_type": "code",
   "execution_count": 55,
   "metadata": {
    "collapsed": false
   },
   "outputs": [
    {
     "name": "stdout",
     "output_type": "stream",
     "text": [
      "Optimization restart 1/10, f = -17.5797748763\n",
      "Optimization restart 2/10, f = -12.4284780225\n",
      "Optimization restart 3/10, f = -1.43792396478\n",
      "Optimization restart 4/10, f = 6.57806294322\n",
      "Optimization restart 5/10, f = -16.4212428532\n",
      "Optimization restart 6/10, f = -1.34995707651\n",
      "Optimization restart 7/10, f = -2.88581345812\n",
      "Optimization restart 8/10, f = 3.78849861093\n",
      "Optimization restart 9/10, f = -16.1038658719\n",
      "Optimization restart 10/10, f = 2.59345303754\n"
     ]
    },
    {
     "data": {
      "text/plain": [
       "[<paramz.optimization.optimization.opt_lbfgsb at 0x7fd4aae50110>,\n",
       " <paramz.optimization.optimization.opt_lbfgsb at 0x7fd4aaf00310>,\n",
       " <paramz.optimization.optimization.opt_lbfgsb at 0x7fd4aae43f50>,\n",
       " <paramz.optimization.optimization.opt_lbfgsb at 0x7fd4aadfdc90>,\n",
       " <paramz.optimization.optimization.opt_lbfgsb at 0x7fd4aae50310>,\n",
       " <paramz.optimization.optimization.opt_lbfgsb at 0x7fd4aae50710>,\n",
       " <paramz.optimization.optimization.opt_lbfgsb at 0x7fd4aae502d0>,\n",
       " <paramz.optimization.optimization.opt_lbfgsb at 0x7fd4aae50190>,\n",
       " <paramz.optimization.optimization.opt_lbfgsb at 0x7fd4aae50090>,\n",
       " <paramz.optimization.optimization.opt_lbfgsb at 0x7fd4aaf5cfd0>]"
      ]
     },
     "execution_count": 55,
     "metadata": {},
     "output_type": "execute_result"
    }
   ],
   "source": [
    "independent.optimize_restarts()"
   ]
  },
  {
   "cell_type": "code",
   "execution_count": 56,
   "metadata": {
    "collapsed": false
   },
   "outputs": [
    {
     "data": {
      "text/html": [
       "<style type=\"text/css\">\n",
       ".pd{\n",
       "    font-family: \"Courier New\", Courier, monospace !important;\n",
       "    width: 100%;\n",
       "    padding: 3px;\n",
       "}\n",
       "</style>\n",
       "\n",
       "<p class=pd>\n",
       "<b>Model</b>: GP regression<br>\n",
       "<b>Objective</b>: -17.5797748763<br>\n",
       "<b>Number of Parameters</b>: 8<br>\n",
       "<b>Number of Optimization Parameters</b>: 8<br>\n",
       "<b>Updates</b>: True<br>\n",
       "</p>\n",
       "<style type=\"text/css\">\n",
       ".tg  {font-family:\"Courier New\", Courier, monospace !important;padding:2px 3px;word-break:normal;border-collapse:collapse;border-spacing:0;border-color:#DCDCDC;margin:0px auto;width:100%;}\n",
       ".tg td{font-family:\"Courier New\", Courier, monospace !important;font-weight:bold;color:#444;background-color:#F7FDFA;border-style:solid;border-width:1px;overflow:hidden;word-break:normal;border-color:#DCDCDC;}\n",
       ".tg th{font-family:\"Courier New\", Courier, monospace !important;font-weight:normal;color:#fff;background-color:#26ADE4;border-style:solid;border-width:1px;overflow:hidden;word-break:normal;border-color:#DCDCDC;}\n",
       ".tg .tg-left{font-family:\"Courier New\", Courier, monospace !important;font-weight:normal;text-align:left;}\n",
       ".tg .tg-center{font-family:\"Courier New\", Courier, monospace !important;font-weight:normal;text-align:center;}\n",
       ".tg .tg-right{font-family:\"Courier New\", Courier, monospace !important;font-weight:normal;text-align:right;}\n",
       "</style>\n",
       "<table class=\"tg\"><tr><th><b>  GP_regression.                   </b></th><th><b>           value</b></th><th><b>constraints</b></th><th><b>priors </b></th></tr>\n",
       "<tr><td class=tg-left>  independ.offset.offset           </td><td class=tg-right>   2.43404979517</td><td class=tg-center>           </td><td class=tg-center>N(0, 4)</td></tr>\n",
       "<tr><td class=tg-left>  independ.offset.Mat32.variance   </td><td class=tg-right>  0.312607505931</td><td class=tg-center>    +ve    </td><td class=tg-center>       </td></tr>\n",
       "<tr><td class=tg-left>  independ.offset.Mat32.lengthscale</td><td class=tg-right>   9.07258554795</td><td class=tg-center>    +ve    </td><td class=tg-center>       </td></tr>\n",
       "<tr><td class=tg-left>  independ.Mat32.variance          </td><td class=tg-right>  0.175197253053</td><td class=tg-center>    +ve    </td><td class=tg-center>       </td></tr>\n",
       "<tr><td class=tg-left>  independ.Mat32.lengthscale       </td><td class=tg-right>   8.57703731647</td><td class=tg-center>    +ve    </td><td class=tg-center>       </td></tr>\n",
       "<tr><td class=tg-left>  independ.Mat32_1.variance        </td><td class=tg-right>  0.197700379381</td><td class=tg-center>    +ve    </td><td class=tg-center>       </td></tr>\n",
       "<tr><td class=tg-left>  independ.Mat32_1.lengthscale     </td><td class=tg-right>     6.942121703</td><td class=tg-center>    +ve    </td><td class=tg-center>       </td></tr>\n",
       "<tr><td class=tg-left>  Gaussian_noise.variance          </td><td class=tg-right>0.00736113135531</td><td class=tg-center>    +ve    </td><td class=tg-center>       </td></tr>\n",
       "</table>"
      ],
      "text/plain": [
       "<GPy.models.gp_regression.GPRegression at 0x7fd4aac9e150>"
      ]
     },
     "execution_count": 56,
     "metadata": {},
     "output_type": "execute_result"
    }
   ],
   "source": [
    "independent"
   ]
  },
  {
   "cell_type": "code",
   "execution_count": 58,
   "metadata": {
    "collapsed": false
   },
   "outputs": [
    {
     "data": {
      "text/plain": [
       "<matplotlib.axes._subplots.AxesSubplot at 0x7fd4aac2f290>"
      ]
     },
     "execution_count": 58,
     "metadata": {},
     "output_type": "execute_result"
    },
    {
     "data": {
      "image/png": "[encoded data removed]",
      "text/plain": [
       "<matplotlib.figure.Figure at 0x7fd4aac388d0>"
      ]
     },
     "metadata": {},
     "output_type": "display_data"
    }
   ],
   "source": [
    "independent.plot(fixed_inputs=[(2,0),(1,1)])"
   ]
  }
 ],
 "metadata": {
  "kernelspec": {
   "display_name": "Python 2",
   "language": "python",
   "name": "python2"
  },
  "language_info": {
   "codemirror_mode": {
    "name": "ipython",
    "version": 2
   },
   "file_extension": ".py",
   "mimetype": "text/x-python",
   "name": "python",
   "nbconvert_exporter": "python",
   "pygments_lexer": "ipython2",
   "version": "2.7.12"
  }
 },
 "nbformat": 4,
 "nbformat_minor": 0
}

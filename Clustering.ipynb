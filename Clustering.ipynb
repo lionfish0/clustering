{
 "cells": [
  {
   "cell_type": "markdown",
   "metadata": {},
   "source": [
    "# Generate pseudo data\n",
    "\n",
    "This code just generates some time series.\n",
    "\n",
    "The shape of the data and number of clusters is probably wrong, but the sizes are roughly about right.\n",
    "I've used the number of time points from the actual time series."
   ]
  },
  {
   "cell_type": "code",
   "execution_count": 39,
   "metadata": {
    "collapsed": false
   },
   "outputs": [
    {
     "name": "stdout",
     "output_type": "stream",
     "text": [
      "513 patients in current data set\n"
     ]
    }
   ],
   "source": [
    "import sys\n",
    "sys.path.append('~/GPy/GPy') #change to where your GPy is installed or remove if in path\n",
    "import GPy\n",
    "import numpy as np\n",
    "import matplotlib.pyplot as plt\n",
    "import time\n",
    "import random\n",
    "%matplotlib inline\n",
    "\n",
    "#make some simulated data\n",
    "\n",
    "S = 9  #number of time series per data point\n",
    "\n",
    "#actual numbers of time points (0,1,2,3...)\n",
    "#Note I've already removed patients with less than 3 time points.\n",
    "Tpointcounts = np.array([   0.,    0.,    0.,  113.,   78.,   72.,   48.,   42.,   36., 32.,   23.,   11.,    5.,    5.,    6.,    4.,    9.,    3.,   3.,    4.,    2.,    1.,    2.,    1.,    3.,    1.,    2.,   1.,    1.,    2.,    0.,    0.,    1.,    0.,    1.,    0.,   1.,    0.,    0.])  \n",
    "Tpoints = []\n",
    "for i,count in enumerate(Tpointcounts):\n",
    "    for j in range(int(count)):\n",
    "        Tpoints.append(i)\n",
    "\n",
    "N = len(Tpoints) #we now get N from the number of points\n",
    "print(\"%d patients in current data set\" % N)\n",
    "C = 9  #number of clusters\n",
    "\n",
    "#actual latent function\n",
    "def lat_fn(t,s,c): #time, series, cluster\n",
    "    return np.sin(1.0*(1.0+t)*(1.0+c)/(10.0+c)+c)**(c+1.0)+t*(0.01*c*s)+c*0.2+1-s*0.2\n",
    "\n",
    "data = []\n",
    "inputs = []\n",
    "dataA = []\n",
    "inputsA = []\n",
    "groundtruth = []\n",
    "\n",
    "offsets = np.random.randn(N)*0 #no time offsets\n",
    "\n",
    "for p in range(N):\n",
    "    #sample from the known distribution of number of time points.\n",
    "    T = random.sample(Tpoints,1)[0]    \n",
    "    Tpoints.remove(T)\n",
    "\n",
    "    persondata = np.zeros([S,T])\n",
    "    personinputs = np.zeros([T,1])\n",
    "    indx = 0\n",
    "    c = np.random.randint(0,C) #pick cluster we're going to put person in\n",
    "    groundtruth.append(c)\n",
    "    pt = 0\n",
    "    for t in range(T):\n",
    "        personinputs[indx,0] = pt\n",
    "        indx+=1\n",
    "        for s in range(S):\n",
    "            persondata[s,t] = lat_fn(pt+offsets[p],s,c) + np.random.randn(1)*0.5\n",
    "        pt += np.random.randint(1,10)\n",
    "    data.append(persondata)\n",
    "    inputs.append(personinputs)"
   ]
  },
  {
   "cell_type": "code",
   "execution_count": 41,
   "metadata": {
    "collapsed": false
   },
   "outputs": [
    {
     "data": {
      "text/plain": [
       "(array([ 311.,  110.,   39.,   24.,   10.,    5.,    7.,    4.,    1.,    2.]),\n",
       " array([  3. ,   6.3,   9.6,  12.9,  16.2,  19.5,  22.8,  26.1,  29.4,\n",
       "         32.7,  36. ]),\n",
       " <a list of 10 Patch objects>)"
      ]
     },
     "execution_count": 41,
     "metadata": {},
     "output_type": "execute_result"
    },
    {
     "data": {
      "image/png": "[encoded data removed]",
      "text/plain": [
       "<matplotlib.figure.Figure at 0x7fcceda98550>"
      ]
     },
     "metadata": {},
     "output_type": "display_data"
    }
   ],
   "source": [
    "# Demonstrates number of time points matches original data.\n",
    "plt.hist([data[i].shape[1] for i in range(len(data))])"
   ]
  },
  {
   "cell_type": "markdown",
   "metadata": {},
   "source": [
    "# Actually run the algorithm"
   ]
  },
  {
   "cell_type": "code",
   "execution_count": null,
   "metadata": {
    "collapsed": false
   },
   "outputs": [],
   "source": [
    "starttime = time.time()\n",
    "active = GPy.util.cluster_with_offset.cluster(data,inputs,verbose=True)\n",
    "endtime = time.time()\n",
    "print(\"TOTAL TIME %0.4f\" % (endtime-starttime))"
   ]
  }
 ],
 "metadata": {
  "kernelspec": {
   "display_name": "Python 2",
   "language": "python",
   "name": "python2"
  },
  "language_info": {
   "codemirror_mode": {
    "name": "ipython",
    "version": 2
   },
   "file_extension": ".py",
   "mimetype": "text/x-python",
   "name": "python",
   "nbconvert_exporter": "python",
   "pygments_lexer": "ipython2",
   "version": "2.7.12"
  }
 },
 "nbformat": 4,
 "nbformat_minor": 0
}

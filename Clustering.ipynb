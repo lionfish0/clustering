{
 "cells": [
  {
   "cell_type": "code",
   "execution_count": 1,
   "metadata": {
    "collapsed": true
   },
   "outputs": [],
   "source": [
    "import sys\n",
    "sys.path.append('~/GPy/GPy') #change to where your GPy is installed or remove if in path\n",
    "import GPy\n",
    "import numpy as np\n",
    "import matplotlib.pyplot as plt\n",
    "import time\n",
    "%matplotlib inline\n",
    "\n",
    "#make some simulated data\n",
    "\n",
    "N = 6 #number of data points\n",
    "S = 8  #number of time series per data point\n",
    "Tavg = 20 #average number of time points per time series (most of these will be unknown)\n",
    "C = 3  #number of clusters\n",
    "\n",
    "#actual latent function\n",
    "def lat_fn(t,s,c): #time, series, cluster\n",
    "    return np.sin(1.0*(1.0+t)*(1.0+c)/(10.0+c)+c)**(c+1.0)+t*(0.01*c*s)+c*0.2+1-s*0.2\n",
    "\n",
    "data = []\n",
    "inputs = []\n",
    "dataA = []\n",
    "inputsA = []\n",
    "groundtruth = []\n",
    "\n",
    "offsets = np.random.randn(N)*0 #no time offsets\n",
    "\n",
    "for p in range(N):\n",
    "    T = np.random.randint(Tavg-5,Tavg+5)\n",
    "    persondata = np.zeros([S,T])\n",
    "    personinputs = np.zeros([T,1])\n",
    "    indx = 0\n",
    "    c = np.random.randint(0,C) #pick cluster we're going to put person in\n",
    "    groundtruth.append(c)\n",
    "    pt = 0\n",
    "    for t in range(T):\n",
    "        personinputs[indx,0] = pt\n",
    "        indx+=1\n",
    "        for s in range(S):\n",
    "            persondata[s,t] = lat_fn(pt+offsets[p],s,c) + np.random.randn(1)*0.5\n",
    "        pt += np.random.randint(1,10)\n",
    "    data.append(persondata)\n",
    "    inputs.append(personinputs)"
   ]
  },
  {
   "cell_type": "code",
   "execution_count": 3,
   "metadata": {
    "collapsed": false
   },
   "outputs": [
    {
     "name": "stdout",
     "output_type": "stream",
     "text": [
      "TOTAL TIME 3.1169\n"
     ]
    },
    {
     "name": "stderr",
     "output_type": "stream",
     "text": [
      " /home/lionfish/GPy/GPy/core/gp.py:86: UserWarning:Your kernel has a different input dimension 1 then the given X dimension 2. Be very sure this is what you want and you have not forgotten to set the right input dimenion in your kernel\n"
     ]
    }
   ],
   "source": [
    "starttime = time.time()\n",
    "#active = GPy.util.cluster_with_offset.cluster(data,inputs)\n",
    "\n",
    "active = GPy.util.threaded_cluster_with_offset.cluster(data,inputs)\n",
    "endtime = time.time()\n",
    "print \"TOTAL TIME %0.4f\" % (endtime-starttime)"
   ]
  },
  {
   "cell_type": "code",
   "execution_count": null,
   "metadata": {
    "collapsed": true
   },
   "outputs": [],
   "source": []
  }
 ],
 "metadata": {
  "kernelspec": {
   "display_name": "Python 2",
   "language": "python",
   "name": "python2"
  },
  "language_info": {
   "codemirror_mode": {
    "name": "ipython",
    "version": 2
   },
   "file_extension": ".py",
   "mimetype": "text/x-python",
   "name": "python",
   "nbconvert_exporter": "python",
   "pygments_lexer": "ipython2",
   "version": "2.7.11"
  }
 },
 "nbformat": 4,
 "nbformat_minor": 0
}

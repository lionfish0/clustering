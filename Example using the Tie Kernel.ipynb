{
 "cells": [
  {
   "cell_type": "markdown",
   "metadata": {},
   "source": [
    "# Example using the Tie Kernel\n",
    "\n",
    "This kernel allows us to tie together the values of various parameters.\n",
    "\n",
    "## Example 1: Simple RBF kernel with equal lengthscale and variance\n",
    "\n",
    "Bit of an odd example, but simple to start with, we fix the lengthscale equal to the variance of the RBF kernel."
   ]
  },
  {
   "cell_type": "code",
   "execution_count": 1,
   "metadata": {
    "collapsed": false
   },
   "outputs": [
    {
     "name": "stdout",
     "output_type": "stream",
     "text": [
      "warning in stationary: failed to import cython module: falling back to numpy\n",
      "                   Name                   |     Ratio     |  Difference   |  Analytical   |   Numerical   |   dF_ratio    \n",
      "--------------------------------------------------------------------------------------------------------------------------\n",
      "\u001b[91m GP_regression.tie.rbf.variance \u001b[0m          |   4.225055    |   1.055999    |   0.327436    |   1.383435    |     1e-07     \n",
      "\u001b[91m GP_regression.tie.rbf.lengthscale \u001b[0m       |   -2.225055   |   1.055999    |   0.327436    |   -0.728563   |     5e-08     \n",
      "\u001b[92m GP_regression.Gaussian_noise.variance \u001b[0m   |   1.000000    |   0.000000    |   3.549716    |   3.549716    |     3e-07     \n"
     ]
    },
    {
     "data": {
      "text/plain": [
       "False"
      ]
     },
     "execution_count": 1,
     "metadata": {},
     "output_type": "execute_result"
    }
   ],
   "source": [
    "import matplotlib.pyplot as plt\n",
    "%matplotlib inline\n",
    "import GPy\n",
    "import numpy as np\n",
    "np.set_printoptions(precision=4,suppress=True)\n",
    "\n",
    "X = np.arange(20)[:,None]\n",
    "Y = np.sin(X)\n",
    "simple = GPy.kern.RBF(input_dim=1,lengthscale=2.0,variance=1.0)\n",
    "\n",
    "tiekern = GPy.kern.Tie(simple,1,[['.*']])\n",
    "tietest = GPy.models.GPRegression(X,Y,tiekern)\n",
    "tietest.checkgrad(verbose=1)\n",
    "#tietest.optimize()"
   ]
  },
  {
   "cell_type": "markdown",
   "metadata": {},
   "source": [
    "The above shows that the lengthscale and variance are now no longer fulfilling the gradient check. I've maybe not thought this through properly, and just took Max's suggestion to add together the gradients. We have a log likelihood, $L=log p(y|X,l,\\sigma)$ and we know $\\frac{\\delta L}{\\delta l}$ and $\\frac{\\delta L}{\\delta \\sigma}$. We are now fixing these to be equal. If we consider the infinitesimal movement from $l$ to $l+\\Delta l$ and from $\\sigma$ to $\\sigma + \\Delta \\sigma$ the two $\\Delta$ terms are equal. If the gradient wrt $\\sigma$ at $l$ is equal to the gradient at $l + \\Delta l$ then we can say that the change in $L$ between $(l,\\sigma)$ is equal to the change that occurs along $l$ plus the change that occurs along $\\sigma$, the upshot is we can add the two gradients together.\n",
    "\n",
    "To achieve this in the kernel, I compute the new analytical values for the gradients, find their mean, and set all the gradients to this mean. \n",
    "\n",
    "One problem that appears above is the numerical approximation is calculated by adding a $\\Delta l$ to the lengthscale, while the *analytical* one is effectively what happens if you add that delta to the variance too.\n",
    "\n",
    "Below we demonstrate that by looking at how the likelihood changes when you move in both directions at the same time,"
   ]
  },
  {
   "cell_type": "code",
   "execution_count": 2,
   "metadata": {
    "collapsed": false
   },
   "outputs": [
    {
     "name": "stdout",
     "output_type": "stream",
     "text": [
      "-0.842962229801\n"
     ]
    },
    {
     "data": {
      "text/plain": [
       "-0.84296327607091814"
      ]
     },
     "execution_count": 2,
     "metadata": {},
     "output_type": "execute_result"
    }
   ],
   "source": [
    "print np.sum(tietest.gradient[0:2])\n",
    "before = tietest.log_likelihood()\n",
    "tietest.tie.rbf.variance+=0.00001\n",
    "tietest.tie.rbf.lengthscale+=0.00001\n",
    "after = tietest.log_likelihood()\n",
    "(after-before)/0.00001"
   ]
  },
  {
   "cell_type": "markdown",
   "metadata": {},
   "source": [
    "And finally the values of the kernel after optimizing, included to show that the two parameters are equal to each other now:"
   ]
  },
  {
   "cell_type": "code",
   "execution_count": 3,
   "metadata": {
    "collapsed": false
   },
   "outputs": [
    {
     "data": {
      "text/html": [
       "<style type=\"text/css\">\n",
       ".pd{\n",
       "    font-family: \"Courier New\", Courier, monospace !important;\n",
       "    width: 100%;\n",
       "    padding: 3px;\n",
       "}\n",
       "</style>\n",
       "\n",
       "<p class=pd>\n",
       "<b>Model</b>: GP regression<br>\n",
       "<b>Objective</b>: -24.7348277906<br>\n",
       "<b>Number of Parameters</b>: 3<br>\n",
       "<b>Number of Optimization Parameters</b>: 3<br>\n",
       "<b>Updates</b>: True<br>\n",
       "</p>\n",
       "<style type=\"text/css\">\n",
       ".tg  {font-family:\"Courier New\", Courier, monospace !important;padding:2px 3px;word-break:normal;border-collapse:collapse;border-spacing:0;border-color:#DCDCDC;margin:0px auto;width:100%;}\n",
       ".tg td{font-family:\"Courier New\", Courier, monospace !important;font-weight:bold;color:#444;background-color:#F7FDFA;border-style:solid;border-width:1px;overflow:hidden;word-break:normal;border-color:#DCDCDC;}\n",
       ".tg th{font-family:\"Courier New\", Courier, monospace !important;font-weight:normal;color:#fff;background-color:#26ADE4;border-style:solid;border-width:1px;overflow:hidden;word-break:normal;border-color:#DCDCDC;}\n",
       ".tg .tg-left{font-family:\"Courier New\", Courier, monospace !important;font-weight:normal;text-align:left;}\n",
       ".tg .tg-center{font-family:\"Courier New\", Courier, monospace !important;font-weight:normal;text-align:center;}\n",
       ".tg .tg-right{font-family:\"Courier New\", Courier, monospace !important;font-weight:normal;text-align:right;}\n",
       "</style>\n",
       "<table class=\"tg\"><tr><th><b>  GP_regression.         </b></th><th><b>            value</b></th><th><b>constraints</b></th><th><b>priors</b></th></tr>\n",
       "<tr><td class=tg-left>  tie.rbf.variance       </td><td class=tg-right>     2.6623233562</td><td class=tg-center>    +ve    </td><td class=tg-center>      </td></tr>\n",
       "<tr><td class=tg-left>  tie.rbf.lengthscale    </td><td class=tg-right>     2.6623233562</td><td class=tg-center>    +ve    </td><td class=tg-center>      </td></tr>\n",
       "<tr><td class=tg-left>  Gaussian_noise.variance</td><td class=tg-right>4.55402331273e-14</td><td class=tg-center>    +ve    </td><td class=tg-center>      </td></tr>\n",
       "</table>"
      ],
      "text/plain": [
       "<GPy.models.gp_regression.GPRegression at 0x7f08a0ece690>"
      ]
     },
     "execution_count": 3,
     "metadata": {},
     "output_type": "execute_result"
    }
   ],
   "source": [
    "tietest.optimize()\n",
    "tietest"
   ]
  },
  {
   "cell_type": "markdown",
   "metadata": {},
   "source": [
    "## Second example: For clustering\n",
    "\n",
    "This is the motivation for this, I wanted to fit a set of models using the independent outputs kernel and the offset kernel.\n",
    "\n",
    "Specifically I take two datasets and want to know whether they are better fitted together or seperately. Is the log likelihood increased by combining them?\n",
    "\n",
    "On the outside is the 'Tie' kernel, which allows us to tie together different parameters.\n",
    "Within this is the independent outputs kernel, this allows us to have three seperate kernels running together: The first is the combined 'Offset' kernel, which takes the two datasets and allows them to shift against one another. The other two are the datasets fitted individually.\n",
    "\n",
    "    Tie[ MultipleOutput( Offset{ Common }, Common, Common ) ]\n"
   ]
  },
  {
   "cell_type": "code",
   "execution_count": 77,
   "metadata": {
    "collapsed": false
   },
   "outputs": [],
   "source": [
    "import matplotlib.pyplot as plt\n",
    "%matplotlib inline\n",
    "import GPy\n",
    "import numpy as np\n",
    "np.set_printoptions(precision=4,suppress=True)\n",
    "\n",
    "N = 10\n",
    "X1 = np.arange(1,N+1,1)[:,None]\n",
    "X2 = X1 + 1.2\n",
    "X = np.vstack([X1,X2,X1,X2])\n",
    "nans = np.empty([N*2,1])\n",
    "nans[:] = np.NAN\n",
    "\n",
    "#offset indicies\n",
    "ind_offset = np.vstack([np.zeros([N,1]),np.ones([N,1]),nans])\n",
    "\n",
    "#independent output indicies\n",
    "ind_indpoutputs = np.vstack([np.zeros([N*2,1]),np.ones([N,1]),np.ones([N,1])*2])\n",
    "X = np.hstack([X,ind_offset,ind_indpoutputs])\n",
    "Y = np.sin((X[0:N,0])/10.0)[:,None]\n",
    "Y = np.vstack([Y,Y,Y,Y])\n",
    "Y += np.random.randn(Y.shape[0],Y.shape[1])*0.01\n",
    "\n",
    "#Structure of inputs:\n",
    "# actual input | offset_kernel_index | indp_output_index\n",
    "#      2.4              0                     0\n",
    "#      2.9              0                     0\n",
    "#      3.4              1                     0\n",
    "#      3.9              1                     0\n",
    "#      2.4              nan                   1\n",
    "#      2.9              nan                   1\n",
    "#      3.4              nan                   2\n",
    "#      3.9              nan                   2\n",
    "#print X\n",
    "#print Y\n",
    "\n",
    "#base kernel to explain all time series with\n",
    "common_kern = GPy.kern.Matern32(input_dim=1)\n",
    "\n",
    "#the offset kernel, that can shift one time series wrt another\n",
    "offset_kern = GPy.kern.Offset(common_kern,2,[0])\n",
    "\n",
    "#we want to discourage massive offsets, which can achieve good fits by simply moving the two datasets far apart\n",
    "offset_kern.offset.set_prior(GPy.priors.Gaussian(0,4.0))\n",
    "\n",
    "#our overall kernel contains our offset kernel and two common kernels\n",
    "independent_kern = GPy.kern.IndependentOutputs([offset_kern,common_kern.copy(),common_kern.copy()],index_dim=2)\n",
    "\n",
    "#simple GP Regression\n",
    "independent = GPy.models.GPRegression(X,Y,independent_kern)\n",
    "\n",
    "#print \"Check gradients\"\n",
    "#independent.checkgrad(verbose=1)\n",
    "#independent.optimize()"
   ]
  },
  {
   "cell_type": "code",
   "execution_count": 78,
   "metadata": {
    "collapsed": false
   },
   "outputs": [],
   "source": [
    "tiekern = GPy.kern.Tie(independent_kern,3,[['.*lengthscale'],['.*variance']])"
   ]
  },
  {
   "cell_type": "code",
   "execution_count": 79,
   "metadata": {
    "collapsed": false
   },
   "outputs": [
    {
     "data": {
      "text/html": [
       "<style type=\"text/css\">\n",
       ".tg  {font-family:\"Courier New\", Courier, monospace !important;padding:2px 3px;word-break:normal;border-collapse:collapse;border-spacing:0;border-color:#DCDCDC;margin:0px auto;width:100%;}\n",
       ".tg td{font-family:\"Courier New\", Courier, monospace !important;font-weight:bold;color:#444;background-color:#F7FDFA;border-style:solid;border-width:1px;overflow:hidden;word-break:normal;border-color:#DCDCDC;}\n",
       ".tg th{font-family:\"Courier New\", Courier, monospace !important;font-weight:normal;color:#fff;background-color:#26ADE4;border-style:solid;border-width:1px;overflow:hidden;word-break:normal;border-color:#DCDCDC;}\n",
       ".tg .tg-left{font-family:\"Courier New\", Courier, monospace !important;font-weight:normal;text-align:left;}\n",
       ".tg .tg-center{font-family:\"Courier New\", Courier, monospace !important;font-weight:normal;text-align:center;}\n",
       ".tg .tg-right{font-family:\"Courier New\", Courier, monospace !important;font-weight:normal;text-align:right;}\n",
       "</style>\n",
       "<table class=\"tg\"><tr><th><b>  tie.                             </b></th><th><b>value</b></th><th><b>constraints</b></th><th><b>priors </b></th></tr>\n",
       "<tr><td class=tg-left>  independ.offset.offset           </td><td class=tg-right>  0.0</td><td class=tg-center>           </td><td class=tg-center>N(0, 4)</td></tr>\n",
       "<tr><td class=tg-left>  independ.offset.Mat32.variance   </td><td class=tg-right>  1.0</td><td class=tg-center>    +ve    </td><td class=tg-center>       </td></tr>\n",
       "<tr><td class=tg-left>  independ.offset.Mat32.lengthscale</td><td class=tg-right>  1.0</td><td class=tg-center>    +ve    </td><td class=tg-center>       </td></tr>\n",
       "<tr><td class=tg-left>  independ.Mat32.variance          </td><td class=tg-right>  1.0</td><td class=tg-center>    +ve    </td><td class=tg-center>       </td></tr>\n",
       "<tr><td class=tg-left>  independ.Mat32.lengthscale       </td><td class=tg-right>  1.0</td><td class=tg-center>    +ve    </td><td class=tg-center>       </td></tr>\n",
       "<tr><td class=tg-left>  independ.Mat32_1.variance        </td><td class=tg-right>  1.0</td><td class=tg-center>    +ve    </td><td class=tg-center>       </td></tr>\n",
       "<tr><td class=tg-left>  independ.Mat32_1.lengthscale     </td><td class=tg-right>  1.0</td><td class=tg-center>    +ve    </td><td class=tg-center>       </td></tr>\n",
       "</table><br /><br />The following sets of parameters are tied:<br />tie.independ.offset.Mat32.lengthscale<br />tie.independ.Mat32.lengthscale<br />tie.independ.Mat32_1.lengthscale<br /><br />tie.independ.offset.Mat32.variance<br />tie.independ.Mat32.variance<br />tie.independ.Mat32_1.variance<br />"
      ],
      "text/plain": [
       "<GPy.kern.src.tie.Tie at 0x7f089768f410>"
      ]
     },
     "execution_count": 79,
     "metadata": {},
     "output_type": "execute_result"
    }
   ],
   "source": [
    "tiekern"
   ]
  },
  {
   "cell_type": "code",
   "execution_count": 80,
   "metadata": {
    "collapsed": false
   },
   "outputs": [],
   "source": [
    "test = GPy.models.GPRegression(X,Y,tiekern)"
   ]
  },
  {
   "cell_type": "code",
   "execution_count": 81,
   "metadata": {
    "collapsed": false
   },
   "outputs": [
    {
     "name": "stdout",
     "output_type": "stream",
     "text": [
      "                          Name                          |     Ratio     |  Difference   |  Analytical   |   Numerical   |   dF_ratio    \n",
      "----------------------------------------------------------------------------------------------------------------------------------------\n",
      "\u001b[92m GP_regression.tie.independ.offset.offset \u001b[0m              |   1.000000    |   0.000000    |   -0.750638   |   -0.750638   |     3e-08     \n",
      "\u001b[91m GP_regression.tie.independ.offset.Mat32.variance \u001b[0m      |   1.263172    |   0.361928    |   1.375250    |   1.737178    |     7e-08     \n",
      "\u001b[91m GP_regression.tie.independ.offset.Mat32.lengthscale \u001b[0m   |   1.522396    |   0.394122    |   -0.754450   |   -1.148571   |     4e-08     \n",
      "\u001b[91m GP_regression.tie.independ.Mat32.variance \u001b[0m             |   0.868185    |   0.181279    |   1.375250    |   1.193971    |     5e-08     \n",
      "\u001b[91m GP_regression.tie.independ.Mat32.lengthscale \u001b[0m          |   0.738737    |   0.197110    |   -0.754450   |   -0.557340   |     2e-08     \n",
      "\u001b[91m GP_regression.tie.independ.Mat32_1.variance \u001b[0m           |   0.868643    |   0.180648    |   1.375250    |   1.194602    |     5e-08     \n",
      "\u001b[91m GP_regression.tie.independ.Mat32_1.lengthscale \u001b[0m        |   0.738867    |   0.197012    |   -0.754450   |   -0.557438   |     2e-08     \n",
      "\u001b[92m GP_regression.Gaussian_noise.variance \u001b[0m                 |   1.000000    |   0.000000    |   7.468749    |   7.468749    |     3e-07     \n"
     ]
    },
    {
     "data": {
      "text/plain": [
       "False"
      ]
     },
     "execution_count": 81,
     "metadata": {},
     "output_type": "execute_result"
    }
   ],
   "source": [
    "test.checkgrad(verbose=True)"
   ]
  },
  {
   "cell_type": "code",
   "execution_count": 82,
   "metadata": {
    "collapsed": true
   },
   "outputs": [],
   "source": [
    "test.optimize()"
   ]
  },
  {
   "cell_type": "code",
   "execution_count": 83,
   "metadata": {
    "collapsed": false
   },
   "outputs": [
    {
     "data": {
      "text/html": [
       "<style type=\"text/css\">\n",
       ".pd{\n",
       "    font-family: \"Courier New\", Courier, monospace !important;\n",
       "    width: 100%;\n",
       "    padding: 3px;\n",
       "}\n",
       "</style>\n",
       "\n",
       "<p class=pd>\n",
       "<b>Model</b>: GP regression<br>\n",
       "<b>Objective</b>: -28.7794201341<br>\n",
       "<b>Number of Parameters</b>: 8<br>\n",
       "<b>Number of Optimization Parameters</b>: 8<br>\n",
       "<b>Updates</b>: True<br>\n",
       "</p>\n",
       "<style type=\"text/css\">\n",
       ".tg  {font-family:\"Courier New\", Courier, monospace !important;padding:2px 3px;word-break:normal;border-collapse:collapse;border-spacing:0;border-color:#DCDCDC;margin:0px auto;width:100%;}\n",
       ".tg td{font-family:\"Courier New\", Courier, monospace !important;font-weight:bold;color:#444;background-color:#F7FDFA;border-style:solid;border-width:1px;overflow:hidden;word-break:normal;border-color:#DCDCDC;}\n",
       ".tg th{font-family:\"Courier New\", Courier, monospace !important;font-weight:normal;color:#fff;background-color:#26ADE4;border-style:solid;border-width:1px;overflow:hidden;word-break:normal;border-color:#DCDCDC;}\n",
       ".tg .tg-left{font-family:\"Courier New\", Courier, monospace !important;font-weight:normal;text-align:left;}\n",
       ".tg .tg-center{font-family:\"Courier New\", Courier, monospace !important;font-weight:normal;text-align:center;}\n",
       ".tg .tg-right{font-family:\"Courier New\", Courier, monospace !important;font-weight:normal;text-align:right;}\n",
       "</style>\n",
       "<table class=\"tg\"><tr><th><b>  GP_regression.                       </b></th><th><b>            value</b></th><th><b>constraints</b></th><th><b>priors </b></th></tr>\n",
       "<tr><td class=tg-left>  tie.independ.offset.offset           </td><td class=tg-right>    1.15352091056</td><td class=tg-center>           </td><td class=tg-center>N(0, 4)</td></tr>\n",
       "<tr><td class=tg-left>  tie.independ.offset.Mat32.variance   </td><td class=tg-right>   0.188500459679</td><td class=tg-center>    +ve    </td><td class=tg-center>       </td></tr>\n",
       "<tr><td class=tg-left>  tie.independ.offset.Mat32.lengthscale</td><td class=tg-right>      1.868789876</td><td class=tg-center>    +ve    </td><td class=tg-center>       </td></tr>\n",
       "<tr><td class=tg-left>  tie.independ.Mat32.variance          </td><td class=tg-right>   0.188500459679</td><td class=tg-center>    +ve    </td><td class=tg-center>       </td></tr>\n",
       "<tr><td class=tg-left>  tie.independ.Mat32.lengthscale       </td><td class=tg-right>      1.868789876</td><td class=tg-center>    +ve    </td><td class=tg-center>       </td></tr>\n",
       "<tr><td class=tg-left>  tie.independ.Mat32_1.variance        </td><td class=tg-right>   0.188500459679</td><td class=tg-center>    +ve    </td><td class=tg-center>       </td></tr>\n",
       "<tr><td class=tg-left>  tie.independ.Mat32_1.lengthscale     </td><td class=tg-right>      1.868789876</td><td class=tg-center>    +ve    </td><td class=tg-center>       </td></tr>\n",
       "<tr><td class=tg-left>  Gaussian_noise.variance              </td><td class=tg-right>1.77203158509e-05</td><td class=tg-center>    +ve    </td><td class=tg-center>       </td></tr>\n",
       "</table>"
      ],
      "text/plain": [
       "<GPy.models.gp_regression.GPRegression at 0x7f089768fed0>"
      ]
     },
     "execution_count": 83,
     "metadata": {},
     "output_type": "execute_result"
    }
   ],
   "source": [
    "test"
   ]
  },
  {
   "cell_type": "markdown",
   "metadata": {},
   "source": [
    "The two datasets combined, with the offset applied. The plot function below doesn't show the offset occuring, so I've quickly plotted the data offset instead."
   ]
  },
  {
   "cell_type": "code",
   "execution_count": 106,
   "metadata": {
    "collapsed": false
   },
   "outputs": [
    {
     "data": {
      "image/png": "[encoded data removed]",
      "text/plain": [
       "<matplotlib.figure.Figure at 0x7f0896c07250>"
      ]
     },
     "metadata": {},
     "output_type": "display_data"
    }
   ],
   "source": [
    "test.plot(fixed_inputs=[(1,0),(2,0)],plot_data=False)\n",
    "plt.plot(X2-test.tie.independ.offset.offset.values[0],Y[0:10],'kx')\n",
    "plt.plot(X1,Y[0:10],'kx')\n",
    "\n",
    "plt.grid()"
   ]
  },
  {
   "cell_type": "markdown",
   "metadata": {},
   "source": [
    "The plot below is for the first single dataset (so ignore the unfitted rightward points)"
   ]
  },
  {
   "cell_type": "code",
   "execution_count": 107,
   "metadata": {
    "collapsed": false
   },
   "outputs": [
    {
     "data": {
      "text/plain": [
       "<matplotlib.axes._subplots.AxesSubplot at 0x7f0896ff47d0>"
      ]
     },
     "execution_count": 107,
     "metadata": {},
     "output_type": "execute_result"
    },
    {
     "data": {
      "image/png": "[encoded data removed]",
      "text/plain": [
       "<matplotlib.figure.Figure at 0x7f0896c7e610>"
      ]
     },
     "metadata": {},
     "output_type": "display_data"
    }
   ],
   "source": [
    "test.plot(fixed_inputs=[(1,0),(2,1)])"
   ]
  },
  {
   "cell_type": "markdown",
   "metadata": {},
   "source": [
    "The plot below is for the second single dataset (so ignore the unfitted leftward points)"
   ]
  },
  {
   "cell_type": "code",
   "execution_count": 86,
   "metadata": {
    "collapsed": false,
    "scrolled": true
   },
   "outputs": [
    {
     "data": {
      "text/plain": [
       "<matplotlib.axes._subplots.AxesSubplot at 0x7f089756cfd0>"
      ]
     },
     "execution_count": 86,
     "metadata": {},
     "output_type": "execute_result"
    },
    {
     "data": {
      "image/png": "[encoded data removed]",
      "text/plain": [
       "<matplotlib.figure.Figure at 0x7f08974f2190>"
      ]
     },
     "metadata": {},
     "output_type": "display_data"
    }
   ],
   "source": [
    "test.plot(fixed_inputs=[(1,0),(2,2)])"
   ]
  },
  {
   "cell_type": "code",
   "execution_count": 45,
   "metadata": {
    "collapsed": true
   },
   "outputs": [],
   "source": [
    "#The X matrix:\n",
    "#\n",
    "# actual input | offset_kernel_index | indp_output_index\n",
    "#      2.4              0                     0\n",
    "#      2.9              0                     0\n",
    "#      3.4              1                     0\n",
    "#      3.9              1                     0\n",
    "#      2.4              nan                   1\n",
    "#      2.9              nan                   1\n",
    "#      3.4              nan                   2\n",
    "#      3.9              nan                   2"
   ]
  },
  {
   "cell_type": "markdown",
   "metadata": {},
   "source": [
    "We can take the above parameters and fit them separately in our own models. We can then get the loglikelihoods and compare if the sum of the individual models is greater or lesser than the combined model.\n",
    "\n",
    "Notice that the hyperparameters will all now be equal, so the model complexity should be equal."
   ]
  },
  {
   "cell_type": "code",
   "execution_count": null,
   "metadata": {
    "collapsed": true
   },
   "outputs": [],
   "source": []
  }
 ],
 "metadata": {
  "kernelspec": {
   "display_name": "Python 2",
   "language": "python",
   "name": "python2"
  },
  "language_info": {
   "codemirror_mode": {
    "name": "ipython",
    "version": 2
   },
   "file_extension": ".py",
   "mimetype": "text/x-python",
   "name": "python",
   "nbconvert_exporter": "python",
   "pygments_lexer": "ipython2",
   "version": "2.7.12"
  }
 },
 "nbformat": 4,
 "nbformat_minor": 0
}
